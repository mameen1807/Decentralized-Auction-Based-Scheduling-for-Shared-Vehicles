{
 "cells": [
  {
   "cell_type": "markdown",
   "id": "3e424ab3-74c4-46ec-8dc6-c88478c340d1",
   "metadata": {},
   "source": [
    "# Decentralized Auction-Based Scheduling — POC\n",
    "\n",
    "This notebook demonstrates a decentralized-style scheduling method where depots propose local schedules,\n",
    "then use a simple auction mechanism to allocate shared vehicles. It illustrates:\n",
    "1. Local scheduling heuristics\n",
    "2. Lightweight negotiation (auction) for shared assets\n",
    "3. Dynamic rescheduling on new order arrivals\n"
   ]
  },
  {
   "cell_type": "code",
   "execution_count": 1,
   "id": "ff1a75d4-611e-48c6-af6b-3242e61e7575",
   "metadata": {},
   "outputs": [],
   "source": [
    "# Imports & Scenario\n",
    "import numpy as np\n",
    "import random\n",
    "from math import hypot\n",
    "random.seed(0); np.random.seed(0)\n"
   ]
  },
  {
   "cell_type": "code",
   "execution_count": 2,
   "id": "b02678ae-5a97-453e-a576-eb2fbc03da47",
   "metadata": {},
   "outputs": [
    {
     "name": "stdout",
     "output_type": "stream",
     "text": [
      "Depots: [(20, 20), (80, 20), (50, 80)]\n",
      "Initial orders: ['O0', 'O1', 'O2', 'O3', 'O4', 'O5', 'O6', 'O7', 'O8']\n"
     ]
    }
   ],
   "source": [
    "# Scenario Setup\n",
    "NUM_DEPOTS = 3\n",
    "NUM_SHARED_VEHICLES = 4\n",
    "NUM_STATIC_VEHICLES_PER_DEPOT = 1\n",
    "NUM_ORDERS_INITIAL = 9\n",
    "AREA_SIZE = 100\n",
    "depots = [(20, 20), (80, 20), (50, 80)]\n",
    "shared_vehicles = [{'pos': (50,50), 'id': f'S{idx}', 'assigned': None} for idx in range(NUM_SHARED_VEHICLES)]\n",
    "local_vehicles = []\n",
    "for d in range(NUM_DEPOTS):\n",
    "    for v in range(NUM_STATIC_VEHICLES_PER_DEPOT):\n",
    "        local_vehicles.append({'depot': d, 'pos': depots[d], 'id': f'L{d}_{v}'})\n",
    "def rand_point_around(center, spread=10):\n",
    "    cx, cy = center\n",
    "    return (cx + random.uniform(-spread, spread), cy + random.uniform(-spread, spread))\n",
    "orders = []\n",
    "for i in range(NUM_ORDERS_INITIAL):\n",
    "    depot_id = i % NUM_DEPOTS\n",
    "    pickup = rand_point_around(depots[depot_id], spread=12)\n",
    "    drop = rand_point_around((random.uniform(0,AREA_SIZE), random.uniform(0,AREA_SIZE)), spread=15)\n",
    "    orders.append({'id': f'O{i}', 'depot': depot_id, 'pickup': pickup, 'drop': drop, 'created': 0, 'assigned_vehicle': None})\n",
    "print(\"Depots:\", depots)\n",
    "print(\"Initial orders:\", [o['id'] for o in orders])\n"
   ]
  },
  {
   "cell_type": "code",
   "execution_count": 3,
   "id": "b803b6f5-e49f-4c30-ad18-6e41564f8910",
   "metadata": {},
   "outputs": [],
   "source": [
    "# Helpers & Scheduling\n",
    "def dist(a,b): return hypot(a[0]-b[0], a[1]-b[1])\n",
    "def route_cost_for_order(vehicle_pos, pickup, drop):\n",
    "    return dist(vehicle_pos, pickup) + dist(pickup, drop)\n",
    "def local_schedule(depot_id, orders_pool, local_vehicles, shared_allocations):\n",
    "    proposals = []\n",
    "    loc_vs = [v for v in local_vehicles if v['depot']==depot_id]\n",
    "    unassigned = [o for o in orders_pool if o['depot']==depot_id and o['assigned_vehicle'] is None]\n",
    "    for v in loc_vs:\n",
    "        if not unassigned: break\n",
    "        o = unassigned.pop(0)\n",
    "        cost = route_cost_for_order(v['pos'], o['pickup'], o['drop'])\n",
    "        proposals.append({'order': o, 'vehicle': v['id'], 'marginal_cost': cost, 'vehicle_obj': v, 'type':'local'})\n",
    "    for o in unassigned:\n",
    "        best_shared=None; best_cost=1e9; best_obj=None\n",
    "        for sv in shared_vehicles:\n",
    "            if sv['assigned'] and sv['assigned']!=depot_id:\n",
    "                continue\n",
    "            c = route_cost_for_order(sv['pos'], o['pickup'], o['drop'])\n",
    "            if c < best_cost:\n",
    "                best_cost = c; best_shared = sv['id']; best_obj=sv\n",
    "        if best_shared:\n",
    "            proposals.append({'order': o, 'vehicle': best_shared, 'marginal_cost': best_cost, 'vehicle_obj': best_obj, 'type':'shared'})\n",
    "    return proposals\n",
    "def run_auction(all_proposals):\n",
    "    winners={}\n",
    "    for p in all_proposals:\n",
    "        oid=p['order']['id']\n",
    "        if oid not in winners or p['marginal_cost']<winners[oid]['marginal_cost']:\n",
    "            winners[oid]=p\n",
    "    for oid,p in winners.items():\n",
    "        o=p['order']; vobj=p['vehicle_obj']\n",
    "        o['assigned_vehicle']=vobj['id']\n",
    "        if p['type']=='shared': vobj['assigned']=o['depot']\n",
    "    return list(winners.values())\n",
    "def inject_new_orders(tim, count=2):\n",
    "    start_idx = len(orders)\n",
    "    for i in range(count):\n",
    "        depot_id = random.randrange(NUM_DEPOTS)\n",
    "        pickup = rand_point_around(depots[depot_id], spread=12)\n",
    "        drop = rand_point_around((random.uniform(0,AREA_SIZE), random.uniform(0,AREA_SIZE)), spread=15)\n",
    "        orders.append({'id': f'O{start_idx+i}', 'depot': depot_id, 'pickup': pickup, 'drop': drop, 'created': tim, 'assigned_vehicle': None})\n"
   ]
  },
  {
   "cell_type": "code",
   "execution_count": 4,
   "id": "a0a3a43a-308f-414e-a987-71c21e61cf6b",
   "metadata": {},
   "outputs": [
    {
     "name": "stdout",
     "output_type": "stream",
     "text": [
      "t=0: orders=9 assigned=9 total_cost=774.5\n",
      "t=1: orders=9 assigned=9 total_cost=774.5\n",
      "t=2: orders=9 assigned=9 total_cost=774.5\n",
      "t=3: orders=11 assigned=11 total_cost=944.1\n",
      "t=4: orders=11 assigned=11 total_cost=944.1\n",
      "t=5: orders=11 assigned=11 total_cost=944.1\n",
      "t=6: orders=13 assigned=13 total_cost=1115.7\n",
      "t=7: orders=13 assigned=13 total_cost=1115.7\n",
      "t=8: orders=13 assigned=13 total_cost=1115.7\n",
      "t=9: orders=13 assigned=13 total_cost=1115.7\n",
      "Done {'total_cost': 1115.7299533822916, 'assignments': 13}\n"
     ]
    }
   ],
   "source": [
    "# Simulation\n",
    "def simulate(time_horizon=10, inject_times=[3,6]):\n",
    "    metrics={'total_cost':0,'assignments':0}\n",
    "    for t in range(time_horizon):\n",
    "        if t in inject_times:\n",
    "            inject_new_orders(t, count=2)\n",
    "        all_props=[]\n",
    "        for d in range(NUM_DEPOTS):\n",
    "            props=local_schedule(d, orders, local_vehicles, shared_vehicles)\n",
    "            all_props.extend(props)\n",
    "        winners=run_auction(all_props)\n",
    "        metrics['assignments'] += len(winners)\n",
    "        for w in winners:\n",
    "            metrics['total_cost'] += w['marginal_cost']\n",
    "        assigned_count = sum(1 for o in orders if o['assigned_vehicle'])\n",
    "        print(f\"t={t}: orders={len(orders)} assigned={assigned_count} total_cost={metrics['total_cost']:.1f}\")\n",
    "    return metrics\n",
    "\n",
    "metrics = simulate()\n",
    "print(\"Done\", metrics)\n"
   ]
  },
  {
   "cell_type": "markdown",
   "id": "1e9dcbea-8037-4d8c-8819-0a431389b517",
   "metadata": {},
   "source": [
    "### Notes & Extensions\n",
    "- This POC uses a central auctioneer for simplicity; in practice, the auction messages could be passed peer-to-peer (decentralized).\n",
    "- Extensions: richer bids (include time windows, penalties), repeated auctions, and privacy-aware message passing.\n",
    "- This demonstrates decentralised scheduling logic and dynamic rescheduling for shared assets.\n"
   ]
  },
  {
   "cell_type": "code",
   "execution_count": null,
   "id": "40d791cc-43e4-41d1-ad5d-49217bb1e6c9",
   "metadata": {},
   "outputs": [],
   "source": []
  }
 ],
 "metadata": {
  "kernelspec": {
   "display_name": "Python 3 (ipykernel)",
   "language": "python",
   "name": "python3"
  },
  "language_info": {
   "codemirror_mode": {
    "name": "ipython",
    "version": 3
   },
   "file_extension": ".py",
   "mimetype": "text/x-python",
   "name": "python",
   "nbconvert_exporter": "python",
   "pygments_lexer": "ipython3",
   "version": "3.13.6"
  }
 },
 "nbformat": 4,
 "nbformat_minor": 5
}
